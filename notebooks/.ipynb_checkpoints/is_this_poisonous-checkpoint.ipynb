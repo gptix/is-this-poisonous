{
 "cells": [
  {
   "cell_type": "markdown",
   "metadata": {
    "colab_type": "text",
    "id": "view-in-github"
   },
   "source": [
    "<a href=\"https://colab.research.google.com/github/gptix/is-this-poisonous/blob/master/is_this_poisonous.ipynb\" target=\"_parent\"><img src=\"https://colab.research.google.com/assets/colab-badge.svg\" alt=\"Open In Colab\"/></a>"
   ]
  },
  {
   "cell_type": "markdown",
   "metadata": {
    "colab_type": "text",
    "id": "SDIEZNkiE4OC"
   },
   "source": [
    "# Can I Eat This Project\n",
    "Lambda School Data Science Cohort 10 (go ***Laser Sharks!***)\n",
    "\n",
    "This project is to develop a model that could be used to make predictions, trained on a dataset.\n",
    "\n",
    "## Requirements for MVP\n",
    "\n",
    "See checklist at bottom of this notebook.\n",
    "\n",
    "At present, this notebook and other work are designed to fulfill the MVP requirements.\n",
    "\n",
    "## Data\n",
    "Data gotten from UCI **UC Irvine Machine Learning Repository**\n",
    "\n",
    "https://archive.ics.uci.edu/ml/datasets/Mushroom"
   ]
  },
  {
   "cell_type": "markdown",
   "metadata": {},
   "source": [
    "### Configure notebook kernel based on whether it is running on Colab or a 'local' machine."
   ]
  },
  {
   "cell_type": "code",
   "execution_count": 1,
   "metadata": {},
   "outputs": [],
   "source": [
    "%%capture\n",
    "import sys\n",
    "\n",
    "# If on Colab:\n",
    "if 'google.colab' in sys.modules:\n",
    "    DATA_PATH = 'https://raw.githubusercontent.com/gptix/Project2/master/'\n",
    "    !pip install category_encoders==2.*\n",
    "    !pip install pdpbox\n",
    "    !pip install shap\n",
    "\n",
    "# If local:\n",
    "else:\n",
    "    DATA_PATH = '../data/'\n",
    "    !pip install xgboost\n",
    "    !pip install graphviz\n",
    "    !pipenv install pydotplus\n",
    "\n",
    "# Ignore this warning: https://github.com/dmlc/xgboost/issues/4300\n",
    "# xgboost/core.py:587: FutureWarning: Series.base is deprecated and will be removed in a future version\n",
    "import warnings\n",
    "warnings.filterwarnings(action='ignore', category=FutureWarning, module='xgboost')"
   ]
  },
  {
   "cell_type": "markdown",
   "metadata": {},
   "source": [
    "## Import data.\n",
    "I created the column names by hand, based on notes on the data in the file \n",
    "agricus-lepiota.names at the DATA_PATH."
   ]
  },
  {
   "cell_type": "code",
   "execution_count": 2,
   "metadata": {},
   "outputs": [],
   "source": [
    "%matplotlib inline\n",
    "import numpy as np\n",
    "import pandas as pd\n",
    "import matplotlib\n",
    "import matplotlib.pyplot as plt\n",
    "# I made the column names by copying descriptions from the file './data/agaricus-lepiota.names',\n",
    "# then used lisp to extract column names, replace '-' with '_', then build a python list of strings.\n",
    "\n",
    "colnames = [\"poisonous\", \"cap_shape\", \"cap_surface\", \"cap_color\", \"bruises?\", \"odor\", \"gill_attachment\",\n",
    "           \"gill_spacing\", \"gill_size\", \"gill_color\", \"stalk_shape\", \"stalk_root\", \n",
    "           \"stalk_surface_above_ring\", \"stalk_surface_below_ring\", \"stalk_color_above_ring\", \n",
    "           \"stalk_color_below_ring\", \"veil_type\", \"veil_color\", \"ring_number\", \"ring_type\", \n",
    "           \"spore_print_color\", \"population\", \"habitat\"]\n",
    "# colnames\n",
    "\n",
    "# a file named 'expanded' is a CSV file with 'full-word' values instead of single-letter abbreviations.\n",
    "# a number of header lines need to be skipped, and one footer line needs to be skipped.\n",
    "df = pd.read_csv(DATA_PATH+'expanded', skiprows=9, skipfooter=1, \n",
    "                 engine='python', names=colnames, header=None)"
   ]
  },
  {
   "cell_type": "markdown",
   "metadata": {},
   "source": [
    "### Do basic checks of data.\n",
    "\n",
    "The data I got was very well prepared."
   ]
  },
  {
   "cell_type": "code",
   "execution_count": 3,
   "metadata": {},
   "outputs": [
    {
     "data": {
      "text/plain": [
       "Index(['poisonous', 'cap_shape', 'cap_surface', 'cap_color', 'bruises?',\n",
       "       'odor', 'gill_attachment', 'gill_spacing', 'gill_size', 'gill_color',\n",
       "       'stalk_shape', 'stalk_root', 'stalk_surface_above_ring',\n",
       "       'stalk_surface_below_ring', 'stalk_color_above_ring',\n",
       "       'stalk_color_below_ring', 'veil_type', 'veil_color', 'ring_number',\n",
       "       'ring_type', 'spore_print_color', 'population', 'habitat'],\n",
       "      dtype='object')"
      ]
     },
     "execution_count": 3,
     "metadata": {},
     "output_type": "execute_result"
    }
   ],
   "source": [
    "df.head()\n",
    "df.columns\n",
    "# df.tail()\n",
    "# df.isnull().sum()"
   ]
  },
  {
   "cell_type": "markdown",
   "metadata": {},
   "source": [
    "## Split dataframe into **X** matrix and $\\hat{y}$ vector\n",
    "\n",
    "We will use the 22 features to 'predict' whether an observed mushroom is poisonous or not.\n",
    "\n",
    "$\\hat{y}$ is simply the series of 'POISONOUS' and 'EDIBLE' values.\n",
    "\n",
    "And **X** is the matrix of all other series."
   ]
  },
  {
   "cell_type": "code",
   "execution_count": 4,
   "metadata": {},
   "outputs": [
    {
     "data": {
      "text/plain": [
       "array(['EDIBLE', 'POISONOUS'], dtype=object)"
      ]
     },
     "execution_count": 4,
     "metadata": {},
     "output_type": "execute_result"
    }
   ],
   "source": [
    "target = 'poisonous'\n",
    "features = df.columns.drop(target)\n",
    "\n",
    "X = df[features]\n",
    "y = df[target]\n",
    "y.unique()"
   ]
  },
  {
   "cell_type": "markdown",
   "metadata": {},
   "source": [
    "## Convert categorical values in $\\hat{y}$ into boolean values.\n",
    "**This cell mutates the data in $\\hat{y}$, so, if it needs to be run more than once, be sure to go back and re-run the code that sets $\\hat{y}$**"
   ]
  },
  {
   "cell_type": "code",
   "execution_count": 5,
   "metadata": {},
   "outputs": [
    {
     "data": {
      "text/plain": [
       "0       False\n",
       "1       False\n",
       "2       False\n",
       "3       False\n",
       "4       False\n",
       "        ...  \n",
       "8411    False\n",
       "8412    False\n",
       "8413    False\n",
       "8414    False\n",
       "8415    False\n",
       "Name: poisonous, Length: 8416, dtype: bool"
      ]
     },
     "execution_count": 5,
     "metadata": {},
     "output_type": "execute_result"
    }
   ],
   "source": [
    "# Define this outside the function, since we might use it later.\n",
    "poisonTF = {'POISONOUS' : True, 'EDIBLE' : False}\n",
    "\n",
    "def poison_to_bool(wrd):   \n",
    "    return poisonTF.get(wrd)\n",
    "\n",
    "# poison_to_bool('POISONOUS')\n",
    "\n",
    "y = y.apply(poison_to_bool)\n",
    "y"
   ]
  },
  {
   "cell_type": "code",
   "execution_count": 6,
   "metadata": {},
   "outputs": [],
   "source": [
    "# # Transform string values to category values, then to integers\n",
    "# from sklearn import preprocessing\n",
    "# le = preprocessing.LabelEncoder()\n",
    "\n",
    "# le.fit(y)\n",
    "# list(le.classes_)\n",
    "\n",
    "# y = le.transform(y)\n",
    "\n",
    "# # Note: EDIBLE = 0, POISONOUS = 1\n",
    "# # since this mutates the data in y, transforming again will lose the relation between the old, string \n",
    "# # data and the new, numeric data.\n",
    "# # To get back, re-run code at and after definition of df.\n",
    "\n",
    "# # Get sample of inversion of transformation.\n",
    "# reverse_transform_of_0_1_1 = list(le.inverse_transform([0, 1, 1]))\n",
    "\n",
    "# reverse_transform_of_0_1_1\n",
    "\n",
    "# # df.head()"
   ]
  },
  {
   "cell_type": "markdown",
   "metadata": {},
   "source": [
    "## Split **X** and $\\hat{y}$ into subsets for training, validation, and final testing."
   ]
  },
  {
   "cell_type": "code",
   "execution_count": 7,
   "metadata": {},
   "outputs": [],
   "source": [
    "from sklearn.model_selection import train_test_split\n",
    "# Split train into train & val\n",
    "# train, test = train_test_split(df, train_size=0.90, test_size=0.10, random_state=43)\n",
    "# train, val = train_test_split(train, train_size=0.90, test_size=0.10, random_state=43)\n",
    "\n",
    "# The 'train' data from this step will be split again, below.\n",
    "X_train, X_test, y_train, y_test = train_test_split( X, y, test_size=0.10, random_state=42)\n",
    "\n",
    "# In the line below, 'test_size' is used to specify the size of the val set.\n",
    "X_train, X_val, y_train, y_val = train_test_split( X_train, y_train, test_size=0.11, random_state=42)"
   ]
  },
  {
   "cell_type": "markdown",
   "metadata": {
    "colab_type": "text",
    "id": "21GZsDZxE4OS"
   },
   "source": [
    "## **Visualization 1**: - Basic histogram\n",
    "Take a look at the distribution of **POISONOUS** and **EDIBLE**.\n"
   ]
  },
  {
   "cell_type": "code",
   "execution_count": 8,
   "metadata": {},
   "outputs": [
    {
     "data": {
      "image/png": "[encoded data removed]",
      "text/plain": [
       "<Figure size 432x288 with 1 Axes>"
      ]
     },
     "metadata": {
      "needs_background": "light"
     },
     "output_type": "display_data"
    }
   ],
   "source": [
    "df[target].hist();"
   ]
  },
  {
   "cell_type": "markdown",
   "metadata": {},
   "source": [
    "## Get a baseline, to use in evaluating subsequent models."
   ]
  },
  {
   "cell_type": "code",
   "execution_count": 9,
   "metadata": {
    "colab": {
     "base_uri": "https://localhost:8080/",
     "height": 278
    },
    "colab_type": "code",
    "id": "UJeSWgkTE4OQ",
    "lines_to_next_cell": 2,
    "outputId": "e37d4c5f-e7b1-4f85-990a-73a1e5e8f50a"
   },
   "outputs": [
    {
     "name": "stdout",
     "output_type": "stream",
     "text": [
      "Baseline, guessing 'edible', would be right 53.3% of the time.\n",
      "\n"
     ]
    }
   ],
   "source": [
    "# Get a baseline\n",
    "baseline_edible = df[target].value_counts(normalize=True).max()\n",
    "print(f'Baseline, guessing \\'edible\\', would be right {round(100 * baseline_edible,1)}% of the time.\\n')"
   ]
  },
  {
   "cell_type": "markdown",
   "metadata": {},
   "source": [
    "## (Build and) Fit a Linear Regression model"
   ]
  },
  {
   "cell_type": "code",
   "execution_count": 10,
   "metadata": {
    "colab": {
     "base_uri": "https://localhost:8080/",
     "height": 33
    },
    "colab_type": "code",
    "id": "7MN7rsuVE4OS",
    "lines_to_next_cell": 2,
    "outputId": "46ace54e-5ff8-48da-dc84-cefd26441ba5"
   },
   "outputs": [
    {
     "data": {
      "text/plain": [
       "Pipeline(memory=None,\n",
       "         steps=[('targetencoder',\n",
       "                 TargetEncoder(cols=['cap_shape', 'cap_surface', 'cap_color',\n",
       "                                     'bruises?', 'odor', 'gill_attachment',\n",
       "                                     'gill_spacing', 'gill_size', 'gill_color',\n",
       "                                     'stalk_shape', 'stalk_root',\n",
       "                                     'stalk_surface_above_ring',\n",
       "                                     'stalk_surface_below_ring',\n",
       "                                     'stalk_color_above_ring',\n",
       "                                     'stalk_color_below_ring', 'veil_type',\n",
       "                                     'veil_color', 'ring_number', 'ring_type',\n",
       "                                     'spore_print_color', 'population',\n",
       "                                     'habitat'],\n",
       "                               drop_invariant=False, handle_missing='value',\n",
       "                               handle_unknown='value', min_samples_leaf=1,\n",
       "                               return_df=True, smoothing=1.0, verbose=0)),\n",
       "                ('linearregression',\n",
       "                 LinearRegression(copy_X=True, fit_intercept=True, n_jobs=None,\n",
       "                                  normalize=False))],\n",
       "         verbose=False)"
      ]
     },
     "execution_count": 10,
     "metadata": {},
     "output_type": "execute_result"
    }
   ],
   "source": [
    "# We need to convert categorical values to numeric values. \n",
    "import category_encoders as ce\n",
    "\n",
    "# We will use a straightforward linear regression.\n",
    "from sklearn.linear_model import LinearRegression\n",
    "\n",
    "# We will use 'make_pipeline' to create a 'composition' of two classes.\n",
    "from sklearn.pipeline import make_pipeline\n",
    "\n",
    "# This instantiates and composes.  Really cool.\n",
    "lr = make_pipeline(\n",
    "    ce.TargetEncoder(),  \n",
    "    LinearRegression()\n",
    ")\n",
    "\n",
    "# Use the instance of the model to fit to training features, and evaluate with training target output.\n",
    "lr.fit(X_train, y_train)"
   ]
  },
  {
   "cell_type": "markdown",
   "metadata": {},
   "source": [
    "# Evaluate Linear Model using **R^2**"
   ]
  },
  {
   "cell_type": "code",
   "execution_count": 11,
   "metadata": {},
   "outputs": [
    {
     "name": "stdout",
     "output_type": "stream",
     "text": [
      "Linear Regression R^2 0.9644133999445964\n"
     ]
    }
   ],
   "source": [
    "print('Linear Regression R^2', lr.score(X_val, y_val))#"
   ]
  },
  {
   "cell_type": "markdown",
   "metadata": {
    "colab_type": "text",
    "id": "zn1hiBRLE4OU"
   },
   "source": [
    "### Explaining Linear Regression\n",
    "\n",
    "Some correlations are strong (e.g., **odor**), while some are very weak (e.g., **veil_type**)"
   ]
  },
  {
   "cell_type": "code",
   "execution_count": 12,
   "metadata": {
    "colab": {
     "base_uri": "https://localhost:8080/",
     "height": 115
    },
    "colab_type": "code",
    "id": "HaPnYdugE4OV",
    "outputId": "6979240a-49a6-4c45-ffea-79992d851fad"
   },
   "outputs": [
    {
     "data": {
      "text/plain": [
       "cap_shape                  -6.761478e-02\n",
       "cap_surface                -4.069967e-03\n",
       "cap_color                   6.904132e-02\n",
       "bruises?                   -8.356050e-02\n",
       "odor                        8.659845e-01\n",
       "gill_attachment            -8.241986e-01\n",
       "gill_spacing               -4.625803e-04\n",
       "gill_size                   1.875690e-01\n",
       "gill_color                  1.347181e-02\n",
       "stalk_shape                -6.142119e-02\n",
       "stalk_root                 -2.523471e-01\n",
       "stalk_surface_above_ring    2.987629e-02\n",
       "stalk_surface_below_ring   -3.658720e-02\n",
       "stalk_color_above_ring      4.983177e-03\n",
       "stalk_color_below_ring      3.828047e-02\n",
       "veil_type                  -8.326673e-17\n",
       "veil_color                  3.418248e-01\n",
       "ring_number                -1.960591e-01\n",
       "ring_type                  -9.430129e-03\n",
       "spore_print_color           2.312993e-01\n",
       "population                  1.107353e-01\n",
       "habitat                    -4.841940e-02\n",
       "dtype: float64"
      ]
     },
     "execution_count": 12,
     "metadata": {},
     "output_type": "execute_result"
    }
   ],
   "source": [
    "coefficients = lr.named_steps['linearregression'].coef_\n",
    "pd.Series(coefficients, features)"
   ]
  },
  {
   "cell_type": "markdown",
   "metadata": {},
   "source": [
    "## (Build and) Fit a Tree Classifier"
   ]
  },
  {
   "cell_type": "code",
   "execution_count": 13,
   "metadata": {},
   "outputs": [
    {
     "name": "stdout",
     "output_type": "stream",
     "text": [
      "\n"
     ]
    }
   ],
   "source": [
    "from sklearn.tree import DecisionTreeClassifier\n",
    "\n",
    "pipeline = make_pipeline(\n",
    "    ce.OrdinalEncoder(),\n",
    "    DecisionTreeClassifier(max_depth=6)\n",
    ")\n",
    "\n",
    "pipeline.fit(X_train, y_train)\n",
    "print() # control whether Pipeline definition is printed."
   ]
  },
  {
   "cell_type": "markdown",
   "metadata": {},
   "source": [
    "## Evaluate Accuracy of Tree Classifier"
   ]
  },
  {
   "cell_type": "code",
   "execution_count": 14,
   "metadata": {},
   "outputs": [
    {
     "name": "stdout",
     "output_type": "stream",
     "text": [
      "Validation Accuracy:  0.9976019184652278\n"
     ]
    }
   ],
   "source": [
    "print('Validation Accuracy: ', pipeline.score(X_val, y_val))"
   ]
  },
  {
   "cell_type": "markdown",
   "metadata": {},
   "source": [
    "## Calculate Recall Score of DecisionTreeClassifier on **Validation** set.\n",
    "\n",
    "I use **Recall** as an evaluation metric since the cost of a **false edible** is high."
   ]
  },
  {
   "cell_type": "code",
   "execution_count": 15,
   "metadata": {},
   "outputs": [
    {
     "name": "stdout",
     "output_type": "stream",
     "text": [
      "Recall score on Validation set:  0.9947643979057592\n"
     ]
    }
   ],
   "source": [
    "from sklearn.metrics import recall_score\n",
    "y_pred_val = pipeline.predict(X_val)\n",
    "\n",
    "recall_val = recall_score(y_val, y_pred_val)\n",
    "print('Recall score on Validation set: ', recall_val)"
   ]
  },
  {
   "cell_type": "markdown",
   "metadata": {},
   "source": [
    "## Calculate Recall Score of DecisionTreeClassifier on **Test** set."
   ]
  },
  {
   "cell_type": "code",
   "execution_count": 16,
   "metadata": {},
   "outputs": [
    {
     "name": "stdout",
     "output_type": "stream",
     "text": [
      "Recall score on Validation set:  0.9878345498783455\n"
     ]
    }
   ],
   "source": [
    "y_pred_test = pipeline.predict(X_test)\n",
    "\n",
    "recall_test = recall_score(y_test, y_pred_test)\n",
    "print('Recall score on Validation set: ', recall_test)"
   ]
  },
  {
   "cell_type": "markdown",
   "metadata": {},
   "source": [
    "## **Visualization 2**: Display Decision Tree (**True == Poisonous**)"
   ]
  },
  {
   "cell_type": "code",
   "execution_count": 17,
   "metadata": {},
   "outputs": [
    {
     "data": {
      "image/svg+xml": [
       "<?xml version=\"1.0\" encoding=\"UTF-8\" standalone=\"no\"?>\n",
       "<!DOCTYPE svg PUBLIC \"-//W3C//DTD SVG 1.1//EN\"\n",
       " \"http://www.w3.org/Graphics/SVG/1.1/DTD/svg11.dtd\">\n",
       "<!-- Generated by graphviz version 2.40.1 (20161225.0304)\n",
       " -->\n",
       "<!-- Title: Tree Pages: 1 -->\n",
       "<svg width=\"1092pt\" height=\"685pt\"\n",
       " viewBox=\"0.00 0.00 1092.00 685.00\" xmlns=\"http://www.w3.org/2000/svg\" xmlns:xlink=\"http://www.w3.org/1999/xlink\">\n",
       "<g id=\"graph0\" class=\"graph\" transform=\"scale(1 1) rotate(0) translate(4 681)\">\n",
       "<title>Tree</title>\n",
       "<polygon fill=\"#ffffff\" stroke=\"transparent\" points=\"-4,4 -4,-681 1088,-681 1088,4 -4,4\"/>\n",
       "<!-- 0 -->\n",
       "<g id=\"node1\" class=\"node\">\n",
       "<title>0</title>\n",
       "<path fill=\"#fcefe5\" stroke=\"#000000\" d=\"M604,-677C604,-677 481,-677 481,-677 475,-677 469,-671 469,-665 469,-665 469,-621 469,-621 469,-615 475,-609 481,-609 481,-609 604,-609 604,-609 610,-609 616,-615 616,-621 616,-621 616,-665 616,-665 616,-671 610,-677 604,-677\"/>\n",
       "<text text-anchor=\"middle\" x=\"542.5\" y=\"-661.8\" font-family=\"Helvetica,sans-Serif\" font-size=\"14.00\" fill=\"#000000\">odor &lt;= 2.5</text>\n",
       "<text text-anchor=\"middle\" x=\"542.5\" y=\"-646.8\" font-family=\"Helvetica,sans-Serif\" font-size=\"14.00\" fill=\"#000000\">samples = 100.0%</text>\n",
       "<text text-anchor=\"middle\" x=\"542.5\" y=\"-631.8\" font-family=\"Helvetica,sans-Serif\" font-size=\"14.00\" fill=\"#000000\">value = [0.535, 0.465]</text>\n",
       "<text text-anchor=\"middle\" x=\"542.5\" y=\"-616.8\" font-family=\"Helvetica,sans-Serif\" font-size=\"14.00\" fill=\"#000000\">class = False</text>\n",
       "</g>\n",
       "<!-- 1 -->\n",
       "<g id=\"node2\" class=\"node\">\n",
       "<title>1</title>\n",
       "<path fill=\"#ea995f\" stroke=\"#000000\" d=\"M509.5,-573C509.5,-573 401.5,-573 401.5,-573 395.5,-573 389.5,-567 389.5,-561 389.5,-561 389.5,-517 389.5,-517 389.5,-511 395.5,-505 401.5,-505 401.5,-505 509.5,-505 509.5,-505 515.5,-505 521.5,-511 521.5,-517 521.5,-517 521.5,-561 521.5,-561 521.5,-567 515.5,-573 509.5,-573\"/>\n",
       "<text text-anchor=\"middle\" x=\"455.5\" y=\"-557.8\" font-family=\"Helvetica,sans-Serif\" font-size=\"14.00\" fill=\"#000000\">odor &lt;= 1.5</text>\n",
       "<text text-anchor=\"middle\" x=\"455.5\" y=\"-542.8\" font-family=\"Helvetica,sans-Serif\" font-size=\"14.00\" fill=\"#000000\">samples = 52.3%</text>\n",
       "<text text-anchor=\"middle\" x=\"455.5\" y=\"-527.8\" font-family=\"Helvetica,sans-Serif\" font-size=\"14.00\" fill=\"#000000\">value = [0.84, 0.16]</text>\n",
       "<text text-anchor=\"middle\" x=\"455.5\" y=\"-512.8\" font-family=\"Helvetica,sans-Serif\" font-size=\"14.00\" fill=\"#000000\">class = False</text>\n",
       "</g>\n",
       "<!-- 0&#45;&gt;1 -->\n",
       "<g id=\"edge1\" class=\"edge\">\n",
       "<title>0&#45;&gt;1</title>\n",
       "<path fill=\"none\" stroke=\"#000000\" d=\"M514.0129,-608.9465C506.5021,-599.968 498.3105,-590.1758 490.4995,-580.8385\"/>\n",
       "<polygon fill=\"#000000\" stroke=\"#000000\" points=\"493.152,-578.5544 484.0511,-573.13 487.7829,-583.0459 493.152,-578.5544\"/>\n",
       "<text text-anchor=\"middle\" x=\"481.8347\" y=\"-594.3316\" font-family=\"Helvetica,sans-Serif\" font-size=\"14.00\" fill=\"#000000\">True</text>\n",
       "</g>\n",
       "<!-- 12 -->\n",
       "<g id=\"node13\" class=\"node\">\n",
       "<title>12</title>\n",
       "<path fill=\"#6bb6ec\" stroke=\"#000000\" d=\"M721.5,-573C721.5,-573 623.5,-573 623.5,-573 617.5,-573 611.5,-567 611.5,-561 611.5,-561 611.5,-517 611.5,-517 611.5,-511 617.5,-505 623.5,-505 623.5,-505 721.5,-505 721.5,-505 727.5,-505 733.5,-511 733.5,-517 733.5,-517 733.5,-561 733.5,-561 733.5,-567 727.5,-573 721.5,-573\"/>\n",
       "<text text-anchor=\"middle\" x=\"672.5\" y=\"-557.8\" font-family=\"Helvetica,sans-Serif\" font-size=\"14.00\" fill=\"#000000\">stalk_root &lt;= 3.5</text>\n",
       "<text text-anchor=\"middle\" x=\"672.5\" y=\"-542.8\" font-family=\"Helvetica,sans-Serif\" font-size=\"14.00\" fill=\"#000000\">samples = 47.7%</text>\n",
       "<text text-anchor=\"middle\" x=\"672.5\" y=\"-527.8\" font-family=\"Helvetica,sans-Serif\" font-size=\"14.00\" fill=\"#000000\">value = [0.2, 0.8]</text>\n",
       "<text text-anchor=\"middle\" x=\"672.5\" y=\"-512.8\" font-family=\"Helvetica,sans-Serif\" font-size=\"14.00\" fill=\"#000000\">class = True</text>\n",
       "</g>\n",
       "<!-- 0&#45;&gt;12 -->\n",
       "<g id=\"edge12\" class=\"edge\">\n",
       "<title>0&#45;&gt;12</title>\n",
       "<path fill=\"none\" stroke=\"#000000\" d=\"M585.0669,-608.9465C596.8512,-599.519 609.7568,-589.1946 621.9481,-579.4415\"/>\n",
       "<polygon fill=\"#000000\" stroke=\"#000000\" points=\"624.2152,-582.11 629.8375,-573.13 619.8423,-576.6439 624.2152,-582.11\"/>\n",
       "<text text-anchor=\"middle\" x=\"627.0767\" y=\"-594.2771\" font-family=\"Helvetica,sans-Serif\" font-size=\"14.00\" fill=\"#000000\">False</text>\n",
       "</g>\n",
       "<!-- 2 -->\n",
       "<g id=\"node3\" class=\"node\">\n",
       "<title>2</title>\n",
       "<path fill=\"#399de5\" stroke=\"#000000\" d=\"M352,-461.5C352,-461.5 259,-461.5 259,-461.5 253,-461.5 247,-455.5 247,-449.5 247,-449.5 247,-420.5 247,-420.5 247,-414.5 253,-408.5 259,-408.5 259,-408.5 352,-408.5 352,-408.5 358,-408.5 364,-414.5 364,-420.5 364,-420.5 364,-449.5 364,-449.5 364,-455.5 358,-461.5 352,-461.5\"/>\n",
       "<text text-anchor=\"middle\" x=\"305.5\" y=\"-446.3\" font-family=\"Helvetica,sans-Serif\" font-size=\"14.00\" fill=\"#000000\">samples = 7.0%</text>\n",
       "<text text-anchor=\"middle\" x=\"305.5\" y=\"-431.3\" font-family=\"Helvetica,sans-Serif\" font-size=\"14.00\" fill=\"#000000\">value = [0.0, 1.0]</text>\n",
       "<text text-anchor=\"middle\" x=\"305.5\" y=\"-416.3\" font-family=\"Helvetica,sans-Serif\" font-size=\"14.00\" fill=\"#000000\">class = True</text>\n",
       "</g>\n",
       "<!-- 1&#45;&gt;2 -->\n",
       "<g id=\"edge2\" class=\"edge\">\n",
       "<title>1&#45;&gt;2</title>\n",
       "<path fill=\"none\" stroke=\"#000000\" d=\"M406.3844,-504.9465C388.9088,-492.8301 369.2962,-479.232 352.0427,-467.2696\"/>\n",
       "<polygon fill=\"#000000\" stroke=\"#000000\" points=\"353.9942,-464.3637 343.782,-461.5422 350.0057,-470.1163 353.9942,-464.3637\"/>\n",
       "</g>\n",
       "<!-- 3 -->\n",
       "<g id=\"node4\" class=\"node\">\n",
       "<title>3</title>\n",
       "<path fill=\"#e6853f\" stroke=\"#000000\" d=\"M517,-469C517,-469 394,-469 394,-469 388,-469 382,-463 382,-457 382,-457 382,-413 382,-413 382,-407 388,-401 394,-401 394,-401 517,-401 517,-401 523,-401 529,-407 529,-413 529,-413 529,-457 529,-457 529,-463 523,-469 517,-469\"/>\n",
       "<text text-anchor=\"middle\" x=\"455.5\" y=\"-453.8\" font-family=\"Helvetica,sans-Serif\" font-size=\"14.00\" fill=\"#000000\">habitat &lt;= 6.5</text>\n",
       "<text text-anchor=\"middle\" x=\"455.5\" y=\"-438.8\" font-family=\"Helvetica,sans-Serif\" font-size=\"14.00\" fill=\"#000000\">samples = 45.3%</text>\n",
       "<text text-anchor=\"middle\" x=\"455.5\" y=\"-423.8\" font-family=\"Helvetica,sans-Serif\" font-size=\"14.00\" fill=\"#000000\">value = [0.969, 0.031]</text>\n",
       "<text text-anchor=\"middle\" x=\"455.5\" y=\"-408.8\" font-family=\"Helvetica,sans-Serif\" font-size=\"14.00\" fill=\"#000000\">class = False</text>\n",
       "</g>\n",
       "<!-- 1&#45;&gt;3 -->\n",
       "<g id=\"edge3\" class=\"edge\">\n",
       "<title>1&#45;&gt;3</title>\n",
       "<path fill=\"none\" stroke=\"#000000\" d=\"M455.5,-504.9465C455.5,-496.776 455.5,-487.9318 455.5,-479.3697\"/>\n",
       "<polygon fill=\"#000000\" stroke=\"#000000\" points=\"459.0001,-479.13 455.5,-469.13 452.0001,-479.13 459.0001,-479.13\"/>\n",
       "</g>\n",
       "<!-- 4 -->\n",
       "<g id=\"node5\" class=\"node\">\n",
       "<title>4</title>\n",
       "<path fill=\"#e6843e\" stroke=\"#000000\" d=\"M367,-365C367,-365 194,-365 194,-365 188,-365 182,-359 182,-353 182,-353 182,-309 182,-309 182,-303 188,-297 194,-297 194,-297 367,-297 367,-297 373,-297 379,-303 379,-309 379,-309 379,-353 379,-353 379,-359 373,-365 367,-365\"/>\n",
       "<text text-anchor=\"middle\" x=\"280.5\" y=\"-349.8\" font-family=\"Helvetica,sans-Serif\" font-size=\"14.00\" fill=\"#000000\">stalk_color_below_ring &lt;= 8.0</text>\n",
       "<text text-anchor=\"middle\" x=\"280.5\" y=\"-334.8\" font-family=\"Helvetica,sans-Serif\" font-size=\"14.00\" fill=\"#000000\">samples = 45.0%</text>\n",
       "<text text-anchor=\"middle\" x=\"280.5\" y=\"-319.8\" font-family=\"Helvetica,sans-Serif\" font-size=\"14.00\" fill=\"#000000\">value = [0.977, 0.023]</text>\n",
       "<text text-anchor=\"middle\" x=\"280.5\" y=\"-304.8\" font-family=\"Helvetica,sans-Serif\" font-size=\"14.00\" fill=\"#000000\">class = False</text>\n",
       "</g>\n",
       "<!-- 3&#45;&gt;4 -->\n",
       "<g id=\"edge4\" class=\"edge\">\n",
       "<title>3&#45;&gt;4</title>\n",
       "<path fill=\"none\" stroke=\"#000000\" d=\"M398.1985,-400.9465C381.7306,-391.1599 363.6362,-380.4066 346.6793,-370.3294\"/>\n",
       "<polygon fill=\"#000000\" stroke=\"#000000\" points=\"348.3149,-367.23 337.9303,-365.13 344.7387,-373.2476 348.3149,-367.23\"/>\n",
       "</g>\n",
       "<!-- 11 -->\n",
       "<g id=\"node12\" class=\"node\">\n",
       "<title>11</title>\n",
       "<path fill=\"#399de5\" stroke=\"#000000\" d=\"M502,-357.5C502,-357.5 409,-357.5 409,-357.5 403,-357.5 397,-351.5 397,-345.5 397,-345.5 397,-316.5 397,-316.5 397,-310.5 403,-304.5 409,-304.5 409,-304.5 502,-304.5 502,-304.5 508,-304.5 514,-310.5 514,-316.5 514,-316.5 514,-345.5 514,-345.5 514,-351.5 508,-357.5 502,-357.5\"/>\n",
       "<text text-anchor=\"middle\" x=\"455.5\" y=\"-342.3\" font-family=\"Helvetica,sans-Serif\" font-size=\"14.00\" fill=\"#000000\">samples = 0.4%</text>\n",
       "<text text-anchor=\"middle\" x=\"455.5\" y=\"-327.3\" font-family=\"Helvetica,sans-Serif\" font-size=\"14.00\" fill=\"#000000\">value = [0.0, 1.0]</text>\n",
       "<text text-anchor=\"middle\" x=\"455.5\" y=\"-312.3\" font-family=\"Helvetica,sans-Serif\" font-size=\"14.00\" fill=\"#000000\">class = True</text>\n",
       "</g>\n",
       "<!-- 3&#45;&gt;11 -->\n",
       "<g id=\"edge11\" class=\"edge\">\n",
       "<title>3&#45;&gt;11</title>\n",
       "<path fill=\"none\" stroke=\"#000000\" d=\"M455.5,-400.9465C455.5,-390.2621 455.5,-378.4254 455.5,-367.5742\"/>\n",
       "<polygon fill=\"#000000\" stroke=\"#000000\" points=\"459.0001,-367.5421 455.5,-357.5422 452.0001,-367.5422 459.0001,-367.5421\"/>\n",
       "</g>\n",
       "<!-- 5 -->\n",
       "<g id=\"node6\" class=\"node\">\n",
       "<title>5</title>\n",
       "<path fill=\"#e5833c\" stroke=\"#000000\" d=\"M280,-261C280,-261 157,-261 157,-261 151,-261 145,-255 145,-249 145,-249 145,-205 145,-205 145,-199 151,-193 157,-193 157,-193 280,-193 280,-193 286,-193 292,-199 292,-205 292,-205 292,-249 292,-249 292,-255 286,-261 280,-261\"/>\n",
       "<text text-anchor=\"middle\" x=\"218.5\" y=\"-245.8\" font-family=\"Helvetica,sans-Serif\" font-size=\"14.00\" fill=\"#000000\">gill_color &lt;= 11.5</text>\n",
       "<text text-anchor=\"middle\" x=\"218.5\" y=\"-230.8\" font-family=\"Helvetica,sans-Serif\" font-size=\"14.00\" fill=\"#000000\">samples = 44.7%</text>\n",
       "<text text-anchor=\"middle\" x=\"218.5\" y=\"-215.8\" font-family=\"Helvetica,sans-Serif\" font-size=\"14.00\" fill=\"#000000\">value = [0.984, 0.016]</text>\n",
       "<text text-anchor=\"middle\" x=\"218.5\" y=\"-200.8\" font-family=\"Helvetica,sans-Serif\" font-size=\"14.00\" fill=\"#000000\">class = False</text>\n",
       "</g>\n",
       "<!-- 4&#45;&gt;5 -->\n",
       "<g id=\"edge5\" class=\"edge\">\n",
       "<title>4&#45;&gt;5</title>\n",
       "<path fill=\"none\" stroke=\"#000000\" d=\"M260.1989,-296.9465C255.0604,-288.3271 249.4749,-278.9579 244.1114,-269.9611\"/>\n",
       "<polygon fill=\"#000000\" stroke=\"#000000\" points=\"246.9737,-267.9272 238.8467,-261.13 240.9611,-271.5117 246.9737,-267.9272\"/>\n",
       "</g>\n",
       "<!-- 10 -->\n",
       "<g id=\"node11\" class=\"node\">\n",
       "<title>10</title>\n",
       "<path fill=\"#399de5\" stroke=\"#000000\" d=\"M415,-253.5C415,-253.5 322,-253.5 322,-253.5 316,-253.5 310,-247.5 310,-241.5 310,-241.5 310,-212.5 310,-212.5 310,-206.5 316,-200.5 322,-200.5 322,-200.5 415,-200.5 415,-200.5 421,-200.5 427,-206.5 427,-212.5 427,-212.5 427,-241.5 427,-241.5 427,-247.5 421,-253.5 415,-253.5\"/>\n",
       "<text text-anchor=\"middle\" x=\"368.5\" y=\"-238.3\" font-family=\"Helvetica,sans-Serif\" font-size=\"14.00\" fill=\"#000000\">samples = 0.3%</text>\n",
       "<text text-anchor=\"middle\" x=\"368.5\" y=\"-223.3\" font-family=\"Helvetica,sans-Serif\" font-size=\"14.00\" fill=\"#000000\">value = [0.0, 1.0]</text>\n",
       "<text text-anchor=\"middle\" x=\"368.5\" y=\"-208.3\" font-family=\"Helvetica,sans-Serif\" font-size=\"14.00\" fill=\"#000000\">class = True</text>\n",
       "</g>\n",
       "<!-- 4&#45;&gt;10 -->\n",
       "<g id=\"edge10\" class=\"edge\">\n",
       "<title>4&#45;&gt;10</title>\n",
       "<path fill=\"none\" stroke=\"#000000\" d=\"M309.3145,-296.9465C319.0076,-285.491 329.8214,-272.711 339.5267,-261.2412\"/>\n",
       "<polygon fill=\"#000000\" stroke=\"#000000\" points=\"342.2536,-263.4369 346.0412,-253.5422 336.9099,-258.9152 342.2536,-263.4369\"/>\n",
       "</g>\n",
       "<!-- 6 -->\n",
       "<g id=\"node7\" class=\"node\">\n",
       "<title>6</title>\n",
       "<path fill=\"#e5833c\" stroke=\"#000000\" d=\"M210,-157C210,-157 87,-157 87,-157 81,-157 75,-151 75,-145 75,-145 75,-101 75,-101 75,-95 81,-89 87,-89 87,-89 210,-89 210,-89 216,-89 222,-95 222,-101 222,-101 222,-145 222,-145 222,-151 216,-157 210,-157\"/>\n",
       "<text text-anchor=\"middle\" x=\"148.5\" y=\"-141.8\" font-family=\"Helvetica,sans-Serif\" font-size=\"14.00\" fill=\"#000000\">cap_surface &lt;= 3.5</text>\n",
       "<text text-anchor=\"middle\" x=\"148.5\" y=\"-126.8\" font-family=\"Helvetica,sans-Serif\" font-size=\"14.00\" fill=\"#000000\">samples = 44.5%</text>\n",
       "<text text-anchor=\"middle\" x=\"148.5\" y=\"-111.8\" font-family=\"Helvetica,sans-Serif\" font-size=\"14.00\" fill=\"#000000\">value = [0.986, 0.014]</text>\n",
       "<text text-anchor=\"middle\" x=\"148.5\" y=\"-96.8\" font-family=\"Helvetica,sans-Serif\" font-size=\"14.00\" fill=\"#000000\">class = False</text>\n",
       "</g>\n",
       "<!-- 5&#45;&gt;6 -->\n",
       "<g id=\"edge6\" class=\"edge\">\n",
       "<title>5&#45;&gt;6</title>\n",
       "<path fill=\"none\" stroke=\"#000000\" d=\"M195.5794,-192.9465C189.7174,-184.2373 183.3402,-174.7626 177.227,-165.6801\"/>\n",
       "<polygon fill=\"#000000\" stroke=\"#000000\" points=\"179.9595,-163.4716 171.4721,-157.13 174.1524,-167.3802 179.9595,-163.4716\"/>\n",
       "</g>\n",
       "<!-- 9 -->\n",
       "<g id=\"node10\" class=\"node\">\n",
       "<title>9</title>\n",
       "<path fill=\"#399de5\" stroke=\"#000000\" d=\"M345,-149.5C345,-149.5 252,-149.5 252,-149.5 246,-149.5 240,-143.5 240,-137.5 240,-137.5 240,-108.5 240,-108.5 240,-102.5 246,-96.5 252,-96.5 252,-96.5 345,-96.5 345,-96.5 351,-96.5 357,-102.5 357,-108.5 357,-108.5 357,-137.5 357,-137.5 357,-143.5 351,-149.5 345,-149.5\"/>\n",
       "<text text-anchor=\"middle\" x=\"298.5\" y=\"-134.3\" font-family=\"Helvetica,sans-Serif\" font-size=\"14.00\" fill=\"#000000\">samples = 0.1%</text>\n",
       "<text text-anchor=\"middle\" x=\"298.5\" y=\"-119.3\" font-family=\"Helvetica,sans-Serif\" font-size=\"14.00\" fill=\"#000000\">value = [0.0, 1.0]</text>\n",
       "<text text-anchor=\"middle\" x=\"298.5\" y=\"-104.3\" font-family=\"Helvetica,sans-Serif\" font-size=\"14.00\" fill=\"#000000\">class = True</text>\n",
       "</g>\n",
       "<!-- 5&#45;&gt;9 -->\n",
       "<g id=\"edge9\" class=\"edge\">\n",
       "<title>5&#45;&gt;9</title>\n",
       "<path fill=\"none\" stroke=\"#000000\" d=\"M244.695,-192.9465C253.4222,-181.6012 263.1487,-168.9567 271.9059,-157.5724\"/>\n",
       "<polygon fill=\"#000000\" stroke=\"#000000\" points=\"274.76,-159.6024 278.083,-149.5422 269.2116,-155.3344 274.76,-159.6024\"/>\n",
       "</g>\n",
       "<!-- 7 -->\n",
       "<g id=\"node8\" class=\"node\">\n",
       "<title>7</title>\n",
       "<path fill=\"#e5833b\" stroke=\"#000000\" d=\"M135,-53C135,-53 12,-53 12,-53 6,-53 0,-47 0,-41 0,-41 0,-12 0,-12 0,-6 6,0 12,0 12,0 135,0 135,0 141,0 147,-6 147,-12 147,-12 147,-41 147,-41 147,-47 141,-53 135,-53\"/>\n",
       "<text text-anchor=\"middle\" x=\"73.5\" y=\"-37.8\" font-family=\"Helvetica,sans-Serif\" font-size=\"14.00\" fill=\"#000000\">samples = 44.5%</text>\n",
       "<text text-anchor=\"middle\" x=\"73.5\" y=\"-22.8\" font-family=\"Helvetica,sans-Serif\" font-size=\"14.00\" fill=\"#000000\">value = [0.988, 0.012]</text>\n",
       "<text text-anchor=\"middle\" x=\"73.5\" y=\"-7.8\" font-family=\"Helvetica,sans-Serif\" font-size=\"14.00\" fill=\"#000000\">class = False</text>\n",
       "</g>\n",
       "<!-- 6&#45;&gt;7 -->\n",
       "<g id=\"edge7\" class=\"edge\">\n",
       "<title>6&#45;&gt;7</title>\n",
       "<path fill=\"none\" stroke=\"#000000\" d=\"M122.0578,-88.9777C115.0833,-80.0039 107.5484,-70.3089 100.5427,-61.295\"/>\n",
       "<polygon fill=\"#000000\" stroke=\"#000000\" points=\"103.1891,-58.9964 94.289,-53.2485 97.6621,-63.292 103.1891,-58.9964\"/>\n",
       "</g>\n",
       "<!-- 8 -->\n",
       "<g id=\"node9\" class=\"node\">\n",
       "<title>8</title>\n",
       "<path fill=\"#399de5\" stroke=\"#000000\" d=\"M270,-53C270,-53 177,-53 177,-53 171,-53 165,-47 165,-41 165,-41 165,-12 165,-12 165,-6 171,0 177,0 177,0 270,0 270,0 276,0 282,-6 282,-12 282,-12 282,-41 282,-41 282,-47 276,-53 270,-53\"/>\n",
       "<text text-anchor=\"middle\" x=\"223.5\" y=\"-37.8\" font-family=\"Helvetica,sans-Serif\" font-size=\"14.00\" fill=\"#000000\">samples = 0.1%</text>\n",
       "<text text-anchor=\"middle\" x=\"223.5\" y=\"-22.8\" font-family=\"Helvetica,sans-Serif\" font-size=\"14.00\" fill=\"#000000\">value = [0.0, 1.0]</text>\n",
       "<text text-anchor=\"middle\" x=\"223.5\" y=\"-7.8\" font-family=\"Helvetica,sans-Serif\" font-size=\"14.00\" fill=\"#000000\">class = True</text>\n",
       "</g>\n",
       "<!-- 6&#45;&gt;8 -->\n",
       "<g id=\"edge8\" class=\"edge\">\n",
       "<title>6&#45;&gt;8</title>\n",
       "<path fill=\"none\" stroke=\"#000000\" d=\"M174.9422,-88.9777C181.9167,-80.0039 189.4516,-70.3089 196.4573,-61.295\"/>\n",
       "<polygon fill=\"#000000\" stroke=\"#000000\" points=\"199.3379,-63.292 202.711,-53.2485 193.8109,-58.9964 199.3379,-63.292\"/>\n",
       "</g>\n",
       "<!-- 13 -->\n",
       "<g id=\"node14\" class=\"node\">\n",
       "<title>13</title>\n",
       "<path fill=\"#3fa0e6\" stroke=\"#000000\" d=\"M742.5,-469C742.5,-469 602.5,-469 602.5,-469 596.5,-469 590.5,-463 590.5,-457 590.5,-457 590.5,-413 590.5,-413 590.5,-407 596.5,-401 602.5,-401 602.5,-401 742.5,-401 742.5,-401 748.5,-401 754.5,-407 754.5,-413 754.5,-413 754.5,-457 754.5,-457 754.5,-463 748.5,-469 742.5,-469\"/>\n",
       "<text text-anchor=\"middle\" x=\"672.5\" y=\"-453.8\" font-family=\"Helvetica,sans-Serif\" font-size=\"14.00\" fill=\"#000000\">spore_print_color &lt;= 5.0</text>\n",
       "<text text-anchor=\"middle\" x=\"672.5\" y=\"-438.8\" font-family=\"Helvetica,sans-Serif\" font-size=\"14.00\" fill=\"#000000\">samples = 38.7%</text>\n",
       "<text text-anchor=\"middle\" x=\"672.5\" y=\"-423.8\" font-family=\"Helvetica,sans-Serif\" font-size=\"14.00\" fill=\"#000000\">value = [0.028, 0.972]</text>\n",
       "<text text-anchor=\"middle\" x=\"672.5\" y=\"-408.8\" font-family=\"Helvetica,sans-Serif\" font-size=\"14.00\" fill=\"#000000\">class = True</text>\n",
       "</g>\n",
       "<!-- 12&#45;&gt;13 -->\n",
       "<g id=\"edge13\" class=\"edge\">\n",
       "<title>12&#45;&gt;13</title>\n",
       "<path fill=\"none\" stroke=\"#000000\" d=\"M672.5,-504.9465C672.5,-496.776 672.5,-487.9318 672.5,-479.3697\"/>\n",
       "<polygon fill=\"#000000\" stroke=\"#000000\" points=\"676.0001,-479.13 672.5,-469.13 669.0001,-479.13 676.0001,-479.13\"/>\n",
       "</g>\n",
       "<!-- 22 -->\n",
       "<g id=\"node23\" class=\"node\">\n",
       "<title>22</title>\n",
       "<path fill=\"#e78946\" stroke=\"#000000\" d=\"M952,-469C952,-469 829,-469 829,-469 823,-469 817,-463 817,-457 817,-457 817,-413 817,-413 817,-407 823,-401 829,-401 829,-401 952,-401 952,-401 958,-401 964,-407 964,-413 964,-413 964,-457 964,-457 964,-463 958,-469 952,-469\"/>\n",
       "<text text-anchor=\"middle\" x=\"890.5\" y=\"-453.8\" font-family=\"Helvetica,sans-Serif\" font-size=\"14.00\" fill=\"#000000\">population &lt;= 4.5</text>\n",
       "<text text-anchor=\"middle\" x=\"890.5\" y=\"-438.8\" font-family=\"Helvetica,sans-Serif\" font-size=\"14.00\" fill=\"#000000\">samples = 9.0%</text>\n",
       "<text text-anchor=\"middle\" x=\"890.5\" y=\"-423.8\" font-family=\"Helvetica,sans-Serif\" font-size=\"14.00\" fill=\"#000000\">value = [0.939, 0.061]</text>\n",
       "<text text-anchor=\"middle\" x=\"890.5\" y=\"-408.8\" font-family=\"Helvetica,sans-Serif\" font-size=\"14.00\" fill=\"#000000\">class = False</text>\n",
       "</g>\n",
       "<!-- 12&#45;&gt;22 -->\n",
       "<g id=\"edge22\" class=\"edge\">\n",
       "<title>12&#45;&gt;22</title>\n",
       "<path fill=\"none\" stroke=\"#000000\" d=\"M733.515,-509.8919C757.1859,-498.5994 784.6289,-485.5073 809.8861,-473.458\"/>\n",
       "<polygon fill=\"#000000\" stroke=\"#000000\" points=\"811.563,-476.536 819.0815,-469.0712 808.5489,-470.2181 811.563,-476.536\"/>\n",
       "</g>\n",
       "<!-- 14 -->\n",
       "<g id=\"node15\" class=\"node\">\n",
       "<title>14</title>\n",
       "<path fill=\"#3c9ee5\" stroke=\"#000000\" d=\"M667,-365C667,-365 544,-365 544,-365 538,-365 532,-359 532,-353 532,-353 532,-309 532,-309 532,-303 538,-297 544,-297 544,-297 667,-297 667,-297 673,-297 679,-303 679,-309 679,-309 679,-353 679,-353 679,-359 673,-365 667,-365\"/>\n",
       "<text text-anchor=\"middle\" x=\"605.5\" y=\"-349.8\" font-family=\"Helvetica,sans-Serif\" font-size=\"14.00\" fill=\"#000000\">odor &lt;= 7.5</text>\n",
       "<text text-anchor=\"middle\" x=\"605.5\" y=\"-334.8\" font-family=\"Helvetica,sans-Serif\" font-size=\"14.00\" fill=\"#000000\">samples = 38.1%</text>\n",
       "<text text-anchor=\"middle\" x=\"605.5\" y=\"-319.8\" font-family=\"Helvetica,sans-Serif\" font-size=\"14.00\" fill=\"#000000\">value = [0.013, 0.987]</text>\n",
       "<text text-anchor=\"middle\" x=\"605.5\" y=\"-304.8\" font-family=\"Helvetica,sans-Serif\" font-size=\"14.00\" fill=\"#000000\">class = True</text>\n",
       "</g>\n",
       "<!-- 13&#45;&gt;14 -->\n",
       "<g id=\"edge14\" class=\"edge\">\n",
       "<title>13&#45;&gt;14</title>\n",
       "<path fill=\"none\" stroke=\"#000000\" d=\"M650.5617,-400.9465C644.951,-392.2373 638.8471,-382.7626 632.9958,-373.6801\"/>\n",
       "<polygon fill=\"#000000\" stroke=\"#000000\" points=\"635.8457,-371.641 627.4876,-365.13 629.9611,-375.4321 635.8457,-371.641\"/>\n",
       "</g>\n",
       "<!-- 21 -->\n",
       "<g id=\"node22\" class=\"node\">\n",
       "<title>21</title>\n",
       "<path fill=\"#e58139\" stroke=\"#000000\" d=\"M802,-357.5C802,-357.5 709,-357.5 709,-357.5 703,-357.5 697,-351.5 697,-345.5 697,-345.5 697,-316.5 697,-316.5 697,-310.5 703,-304.5 709,-304.5 709,-304.5 802,-304.5 802,-304.5 808,-304.5 814,-310.5 814,-316.5 814,-316.5 814,-345.5 814,-345.5 814,-351.5 808,-357.5 802,-357.5\"/>\n",
       "<text text-anchor=\"middle\" x=\"755.5\" y=\"-342.3\" font-family=\"Helvetica,sans-Serif\" font-size=\"14.00\" fill=\"#000000\">samples = 0.6%</text>\n",
       "<text text-anchor=\"middle\" x=\"755.5\" y=\"-327.3\" font-family=\"Helvetica,sans-Serif\" font-size=\"14.00\" fill=\"#000000\">value = [1.0, 0.0]</text>\n",
       "<text text-anchor=\"middle\" x=\"755.5\" y=\"-312.3\" font-family=\"Helvetica,sans-Serif\" font-size=\"14.00\" fill=\"#000000\">class = False</text>\n",
       "</g>\n",
       "<!-- 13&#45;&gt;21 -->\n",
       "<g id=\"edge21\" class=\"edge\">\n",
       "<title>13&#45;&gt;21</title>\n",
       "<path fill=\"none\" stroke=\"#000000\" d=\"M699.6773,-400.9465C708.7318,-389.6012 718.823,-376.9567 727.9086,-365.5724\"/>\n",
       "<polygon fill=\"#000000\" stroke=\"#000000\" points=\"730.8151,-367.5414 734.3173,-357.5422 725.3439,-363.175 730.8151,-367.5414\"/>\n",
       "</g>\n",
       "<!-- 15 -->\n",
       "<g id=\"node16\" class=\"node\">\n",
       "<title>15</title>\n",
       "<path fill=\"#3a9ee5\" stroke=\"#000000\" d=\"M615,-261C615,-261 492,-261 492,-261 486,-261 480,-255 480,-249 480,-249 480,-205 480,-205 480,-199 486,-193 492,-193 492,-193 615,-193 615,-193 621,-193 627,-199 627,-205 627,-205 627,-249 627,-249 627,-255 621,-261 615,-261\"/>\n",
       "<text text-anchor=\"middle\" x=\"553.5\" y=\"-245.8\" font-family=\"Helvetica,sans-Serif\" font-size=\"14.00\" fill=\"#000000\">gill_spacing &lt;= 1.5</text>\n",
       "<text text-anchor=\"middle\" x=\"553.5\" y=\"-230.8\" font-family=\"Helvetica,sans-Serif\" font-size=\"14.00\" fill=\"#000000\">samples = 37.8%</text>\n",
       "<text text-anchor=\"middle\" x=\"553.5\" y=\"-215.8\" font-family=\"Helvetica,sans-Serif\" font-size=\"14.00\" fill=\"#000000\">value = [0.006, 0.994]</text>\n",
       "<text text-anchor=\"middle\" x=\"553.5\" y=\"-200.8\" font-family=\"Helvetica,sans-Serif\" font-size=\"14.00\" fill=\"#000000\">class = True</text>\n",
       "</g>\n",
       "<!-- 14&#45;&gt;15 -->\n",
       "<g id=\"edge15\" class=\"edge\">\n",
       "<title>14&#45;&gt;15</title>\n",
       "<path fill=\"none\" stroke=\"#000000\" d=\"M588.4733,-296.9465C584.2085,-288.4169 579.5765,-279.153 575.1212,-270.2424\"/>\n",
       "<polygon fill=\"#000000\" stroke=\"#000000\" points=\"578.1677,-268.509 570.565,-261.13 571.9067,-271.6395 578.1677,-268.509\"/>\n",
       "</g>\n",
       "<!-- 20 -->\n",
       "<g id=\"node21\" class=\"node\">\n",
       "<title>20</title>\n",
       "<path fill=\"#e58139\" stroke=\"#000000\" d=\"M750,-253.5C750,-253.5 657,-253.5 657,-253.5 651,-253.5 645,-247.5 645,-241.5 645,-241.5 645,-212.5 645,-212.5 645,-206.5 651,-200.5 657,-200.5 657,-200.5 750,-200.5 750,-200.5 756,-200.5 762,-206.5 762,-212.5 762,-212.5 762,-241.5 762,-241.5 762,-247.5 756,-253.5 750,-253.5\"/>\n",
       "<text text-anchor=\"middle\" x=\"703.5\" y=\"-238.3\" font-family=\"Helvetica,sans-Serif\" font-size=\"14.00\" fill=\"#000000\">samples = 0.3%</text>\n",
       "<text text-anchor=\"middle\" x=\"703.5\" y=\"-223.3\" font-family=\"Helvetica,sans-Serif\" font-size=\"14.00\" fill=\"#000000\">value = [1.0, 0.0]</text>\n",
       "<text text-anchor=\"middle\" x=\"703.5\" y=\"-208.3\" font-family=\"Helvetica,sans-Serif\" font-size=\"14.00\" fill=\"#000000\">class = False</text>\n",
       "</g>\n",
       "<!-- 14&#45;&gt;20 -->\n",
       "<g id=\"edge20\" class=\"edge\">\n",
       "<title>14&#45;&gt;20</title>\n",
       "<path fill=\"none\" stroke=\"#000000\" d=\"M637.5889,-296.9465C648.4873,-285.3809 660.6578,-272.4652 671.5457,-260.9107\"/>\n",
       "<polygon fill=\"#000000\" stroke=\"#000000\" points=\"674.1783,-263.2204 678.4891,-253.5422 669.0838,-258.4198 674.1783,-263.2204\"/>\n",
       "</g>\n",
       "<!-- 16 -->\n",
       "<g id=\"node17\" class=\"node\">\n",
       "<title>16</title>\n",
       "<path fill=\"#399de5\" stroke=\"#000000\" d=\"M543.5,-149.5C543.5,-149.5 445.5,-149.5 445.5,-149.5 439.5,-149.5 433.5,-143.5 433.5,-137.5 433.5,-137.5 433.5,-108.5 433.5,-108.5 433.5,-102.5 439.5,-96.5 445.5,-96.5 445.5,-96.5 543.5,-96.5 543.5,-96.5 549.5,-96.5 555.5,-102.5 555.5,-108.5 555.5,-108.5 555.5,-137.5 555.5,-137.5 555.5,-143.5 549.5,-149.5 543.5,-149.5\"/>\n",
       "<text text-anchor=\"middle\" x=\"494.5\" y=\"-134.3\" font-family=\"Helvetica,sans-Serif\" font-size=\"14.00\" fill=\"#000000\">samples = 36.5%</text>\n",
       "<text text-anchor=\"middle\" x=\"494.5\" y=\"-119.3\" font-family=\"Helvetica,sans-Serif\" font-size=\"14.00\" fill=\"#000000\">value = [0.0, 1.0]</text>\n",
       "<text text-anchor=\"middle\" x=\"494.5\" y=\"-104.3\" font-family=\"Helvetica,sans-Serif\" font-size=\"14.00\" fill=\"#000000\">class = True</text>\n",
       "</g>\n",
       "<!-- 15&#45;&gt;16 -->\n",
       "<g id=\"edge16\" class=\"edge\">\n",
       "<title>15&#45;&gt;16</title>\n",
       "<path fill=\"none\" stroke=\"#000000\" d=\"M534.1812,-192.9465C527.9324,-181.9316 520.9888,-169.6922 514.6793,-158.5703\"/>\n",
       "<polygon fill=\"#000000\" stroke=\"#000000\" points=\"517.5362,-156.513 509.5576,-149.5422 511.4477,-159.967 517.5362,-156.513\"/>\n",
       "</g>\n",
       "<!-- 17 -->\n",
       "<g id=\"node18\" class=\"node\">\n",
       "<title>17</title>\n",
       "<path fill=\"#63b2ea\" stroke=\"#000000\" d=\"M709,-157C709,-157 586,-157 586,-157 580,-157 574,-151 574,-145 574,-145 574,-101 574,-101 574,-95 580,-89 586,-89 586,-89 709,-89 709,-89 715,-89 721,-95 721,-101 721,-101 721,-145 721,-145 721,-151 715,-157 709,-157\"/>\n",
       "<text text-anchor=\"middle\" x=\"647.5\" y=\"-141.8\" font-family=\"Helvetica,sans-Serif\" font-size=\"14.00\" fill=\"#000000\">odor &lt;= 6.0</text>\n",
       "<text text-anchor=\"middle\" x=\"647.5\" y=\"-126.8\" font-family=\"Helvetica,sans-Serif\" font-size=\"14.00\" fill=\"#000000\">samples = 1.3%</text>\n",
       "<text text-anchor=\"middle\" x=\"647.5\" y=\"-111.8\" font-family=\"Helvetica,sans-Serif\" font-size=\"14.00\" fill=\"#000000\">value = [0.174, 0.826]</text>\n",
       "<text text-anchor=\"middle\" x=\"647.5\" y=\"-96.8\" font-family=\"Helvetica,sans-Serif\" font-size=\"14.00\" fill=\"#000000\">class = True</text>\n",
       "</g>\n",
       "<!-- 15&#45;&gt;17 -->\n",
       "<g id=\"edge17\" class=\"edge\">\n",
       "<title>15&#45;&gt;17</title>\n",
       "<path fill=\"none\" stroke=\"#000000\" d=\"M584.2791,-192.9465C592.4755,-183.8782 601.422,-173.9799 609.9375,-164.5585\"/>\n",
       "<polygon fill=\"#000000\" stroke=\"#000000\" points=\"612.5429,-166.8957 616.6517,-157.13 607.3497,-162.2019 612.5429,-166.8957\"/>\n",
       "</g>\n",
       "<!-- 18 -->\n",
       "<g id=\"node19\" class=\"node\">\n",
       "<title>18</title>\n",
       "<path fill=\"#e58139\" stroke=\"#000000\" d=\"M626,-53C626,-53 533,-53 533,-53 527,-53 521,-47 521,-41 521,-41 521,-12 521,-12 521,-6 527,0 533,0 533,0 626,0 626,0 632,0 638,-6 638,-12 638,-12 638,-41 638,-41 638,-47 632,-53 626,-53\"/>\n",
       "<text text-anchor=\"middle\" x=\"579.5\" y=\"-37.8\" font-family=\"Helvetica,sans-Serif\" font-size=\"14.00\" fill=\"#000000\">samples = 0.2%</text>\n",
       "<text text-anchor=\"middle\" x=\"579.5\" y=\"-22.8\" font-family=\"Helvetica,sans-Serif\" font-size=\"14.00\" fill=\"#000000\">value = [1.0, 0.0]</text>\n",
       "<text text-anchor=\"middle\" x=\"579.5\" y=\"-7.8\" font-family=\"Helvetica,sans-Serif\" font-size=\"14.00\" fill=\"#000000\">class = False</text>\n",
       "</g>\n",
       "<!-- 17&#45;&gt;18 -->\n",
       "<g id=\"edge18\" class=\"edge\">\n",
       "<title>17&#45;&gt;18</title>\n",
       "<path fill=\"none\" stroke=\"#000000\" d=\"M623.5257,-88.9777C617.2667,-80.0954 610.5099,-70.5067 604.2133,-61.5711\"/>\n",
       "<polygon fill=\"#000000\" stroke=\"#000000\" points=\"606.9699,-59.4068 598.3487,-53.2485 601.2479,-63.4389 606.9699,-59.4068\"/>\n",
       "</g>\n",
       "<!-- 19 -->\n",
       "<g id=\"node20\" class=\"node\">\n",
       "<title>19</title>\n",
       "<path fill=\"#399de5\" stroke=\"#000000\" d=\"M761,-53C761,-53 668,-53 668,-53 662,-53 656,-47 656,-41 656,-41 656,-12 656,-12 656,-6 662,0 668,0 668,0 761,0 761,0 767,0 773,-6 773,-12 773,-12 773,-41 773,-41 773,-47 767,-53 761,-53\"/>\n",
       "<text text-anchor=\"middle\" x=\"714.5\" y=\"-37.8\" font-family=\"Helvetica,sans-Serif\" font-size=\"14.00\" fill=\"#000000\">samples = 1.1%</text>\n",
       "<text text-anchor=\"middle\" x=\"714.5\" y=\"-22.8\" font-family=\"Helvetica,sans-Serif\" font-size=\"14.00\" fill=\"#000000\">value = [0.0, 1.0]</text>\n",
       "<text text-anchor=\"middle\" x=\"714.5\" y=\"-7.8\" font-family=\"Helvetica,sans-Serif\" font-size=\"14.00\" fill=\"#000000\">class = True</text>\n",
       "</g>\n",
       "<!-- 17&#45;&gt;19 -->\n",
       "<g id=\"edge19\" class=\"edge\">\n",
       "<title>17&#45;&gt;19</title>\n",
       "<path fill=\"none\" stroke=\"#000000\" d=\"M671.1217,-88.9777C677.2887,-80.0954 683.9461,-70.5067 690.1501,-61.5711\"/>\n",
       "<polygon fill=\"#000000\" stroke=\"#000000\" points=\"693.1003,-63.4589 695.9285,-53.2485 687.3503,-59.4666 693.1003,-63.4589\"/>\n",
       "</g>\n",
       "<!-- 23 -->\n",
       "<g id=\"node24\" class=\"node\">\n",
       "<title>23</title>\n",
       "<path fill=\"#e58139\" stroke=\"#000000\" d=\"M937,-357.5C937,-357.5 844,-357.5 844,-357.5 838,-357.5 832,-351.5 832,-345.5 832,-345.5 832,-316.5 832,-316.5 832,-310.5 838,-304.5 844,-304.5 844,-304.5 937,-304.5 937,-304.5 943,-304.5 949,-310.5 949,-316.5 949,-316.5 949,-345.5 949,-345.5 949,-351.5 943,-357.5 937,-357.5\"/>\n",
       "<text text-anchor=\"middle\" x=\"890.5\" y=\"-342.3\" font-family=\"Helvetica,sans-Serif\" font-size=\"14.00\" fill=\"#000000\">samples = 8.5%</text>\n",
       "<text text-anchor=\"middle\" x=\"890.5\" y=\"-327.3\" font-family=\"Helvetica,sans-Serif\" font-size=\"14.00\" fill=\"#000000\">value = [1.0, 0.0]</text>\n",
       "<text text-anchor=\"middle\" x=\"890.5\" y=\"-312.3\" font-family=\"Helvetica,sans-Serif\" font-size=\"14.00\" fill=\"#000000\">class = False</text>\n",
       "</g>\n",
       "<!-- 22&#45;&gt;23 -->\n",
       "<g id=\"edge23\" class=\"edge\">\n",
       "<title>22&#45;&gt;23</title>\n",
       "<path fill=\"none\" stroke=\"#000000\" d=\"M890.5,-400.9465C890.5,-390.2621 890.5,-378.4254 890.5,-367.5742\"/>\n",
       "<polygon fill=\"#000000\" stroke=\"#000000\" points=\"894.0001,-367.5421 890.5,-357.5422 887.0001,-367.5422 894.0001,-367.5421\"/>\n",
       "</g>\n",
       "<!-- 24 -->\n",
       "<g id=\"node25\" class=\"node\">\n",
       "<title>24</title>\n",
       "<path fill=\"#399de5\" stroke=\"#000000\" d=\"M1072,-357.5C1072,-357.5 979,-357.5 979,-357.5 973,-357.5 967,-351.5 967,-345.5 967,-345.5 967,-316.5 967,-316.5 967,-310.5 973,-304.5 979,-304.5 979,-304.5 1072,-304.5 1072,-304.5 1078,-304.5 1084,-310.5 1084,-316.5 1084,-316.5 1084,-345.5 1084,-345.5 1084,-351.5 1078,-357.5 1072,-357.5\"/>\n",
       "<text text-anchor=\"middle\" x=\"1025.5\" y=\"-342.3\" font-family=\"Helvetica,sans-Serif\" font-size=\"14.00\" fill=\"#000000\">samples = 0.5%</text>\n",
       "<text text-anchor=\"middle\" x=\"1025.5\" y=\"-327.3\" font-family=\"Helvetica,sans-Serif\" font-size=\"14.00\" fill=\"#000000\">value = [0.0, 1.0]</text>\n",
       "<text text-anchor=\"middle\" x=\"1025.5\" y=\"-312.3\" font-family=\"Helvetica,sans-Serif\" font-size=\"14.00\" fill=\"#000000\">class = True</text>\n",
       "</g>\n",
       "<!-- 22&#45;&gt;24 -->\n",
       "<g id=\"edge24\" class=\"edge\">\n",
       "<title>22&#45;&gt;24</title>\n",
       "<path fill=\"none\" stroke=\"#000000\" d=\"M934.704,-400.9465C950.1461,-389.0504 967.4422,-375.726 982.7625,-363.9237\"/>\n",
       "<polygon fill=\"#000000\" stroke=\"#000000\" points=\"985.2603,-366.4176 991.0462,-357.5422 980.9883,-360.8723 985.2603,-366.4176\"/>\n",
       "</g>\n",
       "</g>\n",
       "</svg>\n"
      ],
      "text/plain": [
       "<graphviz.files.Source at 0x7fe065728dd0>"
      ]
     },
     "execution_count": 17,
     "metadata": {},
     "output_type": "execute_result"
    }
   ],
   "source": [
    "import graphviz\n",
    "from sklearn.tree import export_graphviz\n",
    "# import pydotplus\n",
    "\n",
    "tree = pipeline.named_steps['decisiontreeclassifier']\n",
    "\n",
    "dot_data = export_graphviz(\n",
    "    tree,\n",
    "    out_file = None,\n",
    "    feature_names = X_train.columns,\n",
    "    class_names = y.unique().astype(str),\n",
    "    filled = True,\n",
    "    impurity=False,\n",
    "    proportion=True,\n",
    "    rounded=True\n",
    ")\n",
    "\n",
    "graphviz.Source(dot_data)"
   ]
  }
 ],
 "metadata": {
  "colab": {
   "collapsed_sections": [
    "iUl0gWC9E4OY",
    "G6dptuu4E4Oi",
    "pchuM1I1E4O_",
    "N1ZB8yOGE4PE",
    "1DsFBTseE4Pi",
    "y33gLPmJE4Pp",
    "HhNOg0XpE4Pr",
    "YBqoiKCwE4Pw"
   ],
   "include_colab_link": true,
   "name": "is-this-poisonous.ipynb",
   "provenance": []
  },
  "kernelspec": {
   "display_name": "Python 3",
   "language": "python",
   "name": "python3"
  },
  "language_info": {
   "codemirror_mode": {
    "name": "ipython",
    "version": 3
   },
   "file_extension": ".py",
   "mimetype": "text/x-python",
   "name": "python",
   "nbconvert_exporter": "python",
   "pygments_lexer": "ipython3",
   "version": "3.7.4"
  }
 },
 "nbformat": 4,
 "nbformat_minor": 4
}
